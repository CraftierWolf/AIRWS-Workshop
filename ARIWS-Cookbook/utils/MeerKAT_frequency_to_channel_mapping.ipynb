{
  "nbformat": 4,
  "nbformat_minor": 0,
  "metadata": {
    "colab": {
      "name": "MeerKAT frequency to channel mapping.ipynb",
      "private_outputs": true,
      "provenance": [],
      "toc_visible": true,
      "authorship_tag": "ABX9TyPq9tZRxYzxtpPmJNxZ0UBm",
      "include_colab_link": true
    },
    "kernelspec": {
      "name": "python3",
      "display_name": "Python 3"
    }
  },
  "cells": [
    {
      "cell_type": "markdown",
      "metadata": {
        "id": "view-in-github",
        "colab_type": "text"
      },
      "source": [
        "<a href=\"https://colab.research.google.com/github/rubyvanrooyen/ARIWS-Cookbook/blob/main/utils/MeerKAT_frequency_to_channel_mapping.ipynb\" target=\"_parent\"><img src=\"https://colab.research.google.com/assets/colab-badge.svg\" alt=\"Open In Colab\"/></a>"
      ]
    },
    {
      "cell_type": "markdown",
      "metadata": {
        "id": "se3YJCWEN0uq"
      },
      "source": [
        "# Utility functions\n",
        "Mapping between MeerKAT channel number and frequency"
      ]
    },
    {
      "cell_type": "code",
      "metadata": {
        "id": "qlIIy3JkNWb2"
      },
      "source": [
        "import numpy as np"
      ],
      "execution_count": null,
      "outputs": []
    },
    {
      "cell_type": "code",
      "metadata": {
        "id": "9Gmv8lGDN8B-"
      },
      "source": [
        "def freq2chan(frequency, bandwidth, n_chans):\n",
        "    \"\"\" Frequency (in Hz) to channel number \"\"\"\n",
        "    channel_nr = round(float(frequency) / float(bandwidth) * n_chans) % n_chans\n",
        "    return int(channel_nr)"
      ],
      "execution_count": null,
      "outputs": []
    },
    {
      "cell_type": "code",
      "metadata": {
        "id": "gtX5PqwVOGpb"
      },
      "source": [
        "def chan2bbfreq(channel_nr, bandwidth, n_chans):\n",
        "    \"\"\" Channel number to baseband frequency (in Hz) \"\"\"\n",
        "    frequency = round(float(channel_nr) / float(n_chans) * float(bandwidth)) % bandwidth\n",
        "    return frequency"
      ],
      "execution_count": null,
      "outputs": []
    },
    {
      "cell_type": "code",
      "metadata": {
        "id": "qfApFMAzONUy"
      },
      "source": [
        "def chan2freq(channel_nr, bandwidth, channel_freqs):\n",
        "    \"\"\" Channel number of frequency (in Hz) \"\"\"\n",
        "    frequency = chan2bbfreq(channel_nr, bandwidth, len(channel_freqs))\n",
        "    c_width = np.mean(np.diff(channel_freqs))\n",
        "    return channel_freqs[0] + frequency - c_width/2."
      ],
      "execution_count": null,
      "outputs": []
    },
    {
      "cell_type": "markdown",
      "metadata": {
        "id": "wvArEtSIO8qh"
      },
      "source": [
        "# Example\n",
        "For reference, the frequency band $1326.21$ MHz to $1368.01$ MHz is clean for MeerKAT and a good location for initial inspection and calculation."
      ]
    },
    {
      "cell_type": "markdown",
      "metadata": {
        "id": "LWaA7U-MU-tM"
      },
      "source": [
        "Information from MeerKAT observation file\n",
        "```\n",
        "Subarrays: 1\n",
        "  ID  Antennas                            Inputs  Corrprods\n",
        "   0  m010,m043,m053,m054                  8       40\n",
        "Spectral Windows: 1\n",
        "  ID Band Product  CentreFreq(MHz)  Bandwidth(MHz)  Channels  ChannelWidth(kHz)\n",
        "   0 L    c856M4k    1284.000         856.000           4096       208.984\n",
        "-------------------------------------------------------------------------------\n",
        "Data selected according to the following criteria:\n",
        "  ants=['m010', 'm043', 'm053', 'm054']\n",
        "  spw=0\n",
        "  subarray=0\n",
        "-------------------------------------------------------------------------------\n",
        "Shape: (29 dumps, 4096 channels, 40 correlation products) => Size: 38.011 MB\n",
        "Antennas: m010,m043,m053,m054  Inputs: 8  Autocorr: yes  Crosscorr: yes\n",
        "Channels: 4096 (index 0 - 4095,  856.000 MHz - 1711.791 MHz), each 208.984 kHz wide\n",
        "\n",
        "```"
      ]
    },
    {
      "cell_type": "code",
      "metadata": {
        "id": "LxXWvcKVOS8e"
      },
      "source": [
        "# subset of channels that are known to be relative RFI free (close and around 1.4GHz)\n",
        "f_low = 1326214844.0\n",
        "f_high = 1368011719.0\n",
        "\n",
        "# get MeerKAT channels for frequency range\n",
        "n_chans = 4096\n",
        "bandwidth = 856e6\n",
        "channelwidth = bandwidth/n_chans\n",
        "channelfreqs = 856e6 + np.arange(n_chans) * channelwidth\n",
        "\n",
        "c_low = freq2chan(f_low, bandwidth, n_chans)\n",
        "c_high = freq2chan(f_high, bandwidth, n_chans)\n",
        "print(f'Frequency range {f_low/1e6:.3f}-{f_high/1e6:.3f} MHz ',\n",
        "      f'maps to channels {c_low}-{c_high}')\n",
        "\n",
        "f_low = chan2freq(c_low, bandwidth, channelfreqs)\n",
        "f_high = chan2freq(c_high, bandwidth, channelfreqs)\n",
        "print(f'{n_chans} channels over bandpass, maps to {f_low/1e6:.3f}-{f_high/1e6:.3f} MHz')"
      ],
      "execution_count": null,
      "outputs": []
    },
    {
      "cell_type": "markdown",
      "metadata": {
        "id": "fPbsQLqlPVEz"
      },
      "source": [
        "# User input\n",
        "\n",
        "All frequencies assume MHz units.    \n",
        "The default "
      ]
    },
    {
      "cell_type": "code",
      "metadata": {
        "id": "ExYPizr_P8ef"
      },
      "source": [
        "#@title Frequency to channel\n",
        "freq_mhz = 1284.0 #@param {type:\"number\"}\n",
        "\n",
        "bandwidth_mhz = 856.0 #@param {type:\"number\"}\n",
        "\n",
        "nr_channels = 4096 #@param [1024, 4096, 32768] {allow-input: true}"
      ],
      "execution_count": null,
      "outputs": []
    },
    {
      "cell_type": "code",
      "metadata": {
        "id": "E-J5wMTpP8bB"
      },
      "source": [
        "freq = freq_mhz * 1e6\n",
        "bandwidth = bandwidth_mhz * 1e6\n",
        "# get MeerKAT channels for input frequency\n",
        "channel = freq2chan(freq, bandwidth, nr_channels)\n",
        "\n",
        "print(f'Frequency {freq_mhz:.3f} MHz maps to channel {channel}')"
      ],
      "execution_count": null,
      "outputs": []
    },
    {
      "cell_type": "code",
      "metadata": {
        "id": "rCohM-KzPVa2"
      },
      "source": [
        ""
      ],
      "execution_count": null,
      "outputs": []
    }
  ]
}